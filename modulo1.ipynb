{
 "cells": [
  {
   "cell_type": "code",
   "execution_count": null,
   "id": "046e1c49",
   "metadata": {},
   "outputs": [],
   "source": [
    "print(\"Hola Mundo de Python\")"
   ]
  },
  {
   "cell_type": "code",
   "execution_count": null,
   "id": "cb1a8612",
   "metadata": {},
   "outputs": [],
   "source": [
    "print(\"Vamos a comenzar usar su metodologia de aprender usar Python\")"
   ]
  },
  {
   "cell_type": "markdown",
   "id": "e1980723",
   "metadata": {},
   "source": [
    "Usando la Función (input)"
   ]
  },
  {
   "cell_type": "code",
   "execution_count": 1,
   "id": "6e4cfb36",
   "metadata": {},
   "outputs": [
    {
     "name": "stdout",
     "output_type": "stream",
     "text": [
      "\n"
     ]
    }
   ],
   "source": [
    "print(\n",
    "    input(f\"De donde eres: \")\n",
    ")"
   ]
  },
  {
   "cell_type": "markdown",
   "id": "2582ba54",
   "metadata": {},
   "source": [
    "VARIABLES es un valor; una referencia es una etiqueta  y en conjunto es un objeto"
   ]
  },
  {
   "cell_type": "markdown",
   "id": "6142a040",
   "metadata": {},
   "source": [
    "Objeto Es el dato real en memoria,\n",
    "Variable Es el nombre  que apunta a un objeto \n",
    "Referencia Es el enlace variable y objeto "
   ]
  },
  {
   "cell_type": "code",
   "execution_count": 3,
   "id": "eb50929e",
   "metadata": {},
   "outputs": [
    {
     "name": "stdout",
     "output_type": "stream",
     "text": [
      "15\n"
     ]
    }
   ],
   "source": [
    "var1 = (9)\n",
    "var2 = (6)\n",
    "var3 = ( var1+var2)\n",
    "print(var3)\n"
   ]
  },
  {
   "cell_type": "markdown",
   "id": "641a6d98",
   "metadata": {},
   "source": [
    "Operaciones basicas: Sumas, resta, multiplicación y división "
   ]
  },
  {
   "cell_type": "code",
   "execution_count": 14,
   "id": "171527e3",
   "metadata": {},
   "outputs": [
    {
     "name": "stdout",
     "output_type": "stream",
     "text": [
      "Suma: 15\n",
      "Multiplicar: 56\n",
      "Resta: -1\n",
      "Division: 0\n"
     ]
    }
   ],
   "source": [
    "n1= 7\n",
    "n2= 8\n",
    "Suma = n1+n2\n",
    "Multiplicar = n1*n2\n",
    "Resta = n1-n2\n",
    "Division = n1//n2\n",
    "print(\"Suma:\", Suma)\n",
    "print(\"Multiplicar:\",Multiplicar)\n",
    "print(\"Resta:\", Resta)\n",
    "print(\"Division:\",Division)"
   ]
  },
  {
   "cell_type": "markdown",
   "id": "048db91f",
   "metadata": {},
   "source": [
    "Realizando las operaciones basicas aritmetica pidiendo los numeros"
   ]
  },
  {
   "cell_type": "markdown",
   "id": "0ebcfda2",
   "metadata": {},
   "source": [
    "Utilizando \"float\", \"input\""
   ]
  },
  {
   "cell_type": "code",
   "execution_count": 21,
   "id": "249a6f9e",
   "metadata": {},
   "outputs": [
    {
     "name": "stdout",
     "output_type": "stream",
     "text": [
      "Suma: 15.0+8.0 = 23.0\n",
      "Multiplicar: 15.0*8.0 = 120.0\n",
      "Resta: 15.0-8.0 = 7.0\n",
      "Division: 15.0/8.0 = 1.875\n"
     ]
    }
   ],
   "source": [
    "n1= float(input(\"Ingresa el primer número\"))\n",
    "n2= float(input(\"Ingresa el segundo número\"))\n",
    "#sumar\n",
    "Suma = n1+n2\n",
    "print (f\"Suma: {n1}+{n2} = {Suma}\")\n",
    "#multiplicar\n",
    "Multiplicar = n1*n2\n",
    "print (f\"Multiplicar: {n1}*{n2} = {Multiplicar}\")\n",
    "#Restar\n",
    "Resta = n1-n2\n",
    "print (f\"Resta: {n1}-{n2} = {Resta}\")\n",
    "#Dividir, reconocer que no hay división entre 0\n",
    "if n2 != 0:\n",
    "    Division = n1/n2\n",
    "    print (f\"Division: {n1}/{n2} = {Division}\")\n",
    "else:\n",
    "    print(\"la operación no se puede realizar\")"
   ]
  },
  {
   "cell_type": "markdown",
   "id": "8b2a9105",
   "metadata": {},
   "source": [
    "Escribiendo frases, dando una opinion y si escribe una palabrota tapar y responder eso no es correcto"
   ]
  },
  {
   "cell_type": "code",
   "execution_count": null,
   "id": "846266c7",
   "metadata": {},
   "outputs": [],
   "source": [
    "import re \n",
    "\n",
    "# listas de palabrotas\n",
    "palabrotas =('idiota','imbécil','tonta','tonto','estúpido','estupida','cabeza hueca')\n",
    "\n",
    "# pregunta al usuario o persona \n",
    "respuesta = input(\"Cómo soy\").lower()\n",
    "\n",
    "insulto_detectado = False\n",
    "# si hay paabrotas o varible negativa\n",
    "\n",
    "for insulto in palabrotas:\n",
    "    if insulto in respuesta: \n",
    "    # cambiarlo por simbolos \n",
    "        respuesta = re.sub(insulto,'@!##*%', respuesta)\n",
    "        insulto_detectado = True\n",
    "# repuesta final\n",
    "    if insulto_detectado:\n",
    "    #verificar si hay un insulto (variable)\n",
    "        print(respuesta)\n",
    "        print(\" Eso no es correcto: no debemos insultar a las personas.\")\n",
    "\n",
    "    else:\n",
    "         print(respuesta,\":-)\" \"Gracias por tus palabras:\" )"
   ]
  }
 ],
 "metadata": {
  "kernelspec": {
   "display_name": "Python 3",
   "language": "python",
   "name": "python3"
  },
  "language_info": {
   "codemirror_mode": {
    "name": "ipython",
    "version": 3
   },
   "file_extension": ".py",
   "mimetype": "text/x-python",
   "name": "python",
   "nbconvert_exporter": "python",
   "pygments_lexer": "ipython3",
   "version": "3.13.5"
  }
 },
 "nbformat": 4,
 "nbformat_minor": 5
}
