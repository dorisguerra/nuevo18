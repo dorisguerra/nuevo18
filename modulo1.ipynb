{
 "cells": [
  {
   "cell_type": "code",
   "execution_count": null,
   "id": "046e1c49",
   "metadata": {},
   "outputs": [],
   "source": [
    "print(\"Hola Mundo de Python\")"
   ]
  },
  {
   "cell_type": "code",
   "execution_count": null,
   "id": "cb1a8612",
   "metadata": {},
   "outputs": [],
   "source": [
    "print(\"Vamos a comenzar usar su metodologia de aprender usar Python\")"
   ]
  },
  {
   "cell_type": "markdown",
   "id": "e1980723",
   "metadata": {},
   "source": [
    "Usando la Función (input)"
   ]
  },
  {
   "cell_type": "code",
   "execution_count": 1,
   "id": "6e4cfb36",
   "metadata": {},
   "outputs": [
    {
     "name": "stdout",
     "output_type": "stream",
     "text": [
      "\n"
     ]
    }
   ],
   "source": [
    "print(\n",
    "    input(f\"De donde eres: \")\n",
    ")"
   ]
  },
  {
   "cell_type": "markdown",
   "id": "2582ba54",
   "metadata": {},
   "source": [
    "VARIABLES es un valor; una referencia es una etiqueta  y en conjunto es un objeto"
   ]
  },
  {
   "cell_type": "markdown",
   "id": "6142a040",
   "metadata": {},
   "source": [
    "Objeto Es el dato real en memoria,\n",
    "Variable Es el nombre  que apunta a un objeto \n",
    "Referencia Es el enlace variable y objeto "
   ]
  },
  {
   "cell_type": "code",
   "execution_count": 3,
   "id": "eb50929e",
   "metadata": {},
   "outputs": [
    {
     "name": "stdout",
     "output_type": "stream",
     "text": [
      "15\n"
     ]
    }
   ],
   "source": [
    "var1 = (9)\n",
    "var2 = (6)\n",
    "var3 = ( var1+var2)\n",
    "print(var3)\n"
   ]
  },
  {
   "cell_type": "markdown",
   "id": "641a6d98",
   "metadata": {},
   "source": [
    "Operaciones basicas: Sumas, resta, multiplicación y división "
   ]
  },
  {
   "cell_type": "code",
   "execution_count": 14,
   "id": "171527e3",
   "metadata": {},
   "outputs": [
    {
     "name": "stdout",
     "output_type": "stream",
     "text": [
      "Suma: 15\n",
      "Multiplicar: 56\n",
      "Resta: -1\n",
      "Division: 0\n"
     ]
    }
   ],
   "source": [
    "n1= 7\n",
    "n2= 8\n",
    "Suma = n1+n2\n",
    "Multiplicar = n1*n2\n",
    "Resta = n1-n2\n",
    "Division = n1//n2\n",
    "print(\"Suma:\", Suma)\n",
    "print(\"Multiplicar:\",Multiplicar)\n",
    "print(\"Resta:\", Resta)\n",
    "print(\"Division:\",Division)"
   ]
  },
  {
   "cell_type": "markdown",
   "id": "048db91f",
   "metadata": {},
   "source": [
    "Realizando las operaciones basicas aritmetica pidiendo los numeros"
   ]
  },
  {
   "cell_type": "markdown",
   "id": "0ebcfda2",
   "metadata": {},
   "source": [
    "Utilizando \"float\" numeros decimales o de fracción , \"input\" son numeros y/o enteros "
   ]
  },
  {
   "cell_type": "code",
   "execution_count": null,
   "id": "249a6f9e",
   "metadata": {},
   "outputs": [],
   "source": [
    "n1= float(input(\"Ingresa el primer número\"))\n",
    "n2= float(input(\"Ingresa el segundo número\"))\n",
    "#sumar\n",
    "Suma = n1+n2\n",
    "print (f\"Suma: {n1}+{n2} = {Suma}\")\n",
    "#multiplicar\n",
    "Multiplicar = n1*n2\n",
    "print (f\"Multiplicar: {n1}*{n2} = {Multiplicar}\")\n",
    "#Restar\n",
    "Resta = n1-n2\n",
    "print (f\"Resta: {n1}-{n2} = {Resta}\")\n",
    "#Dividir, reconocer que no hay división entre 0\n",
    "if n2 != 0:\n",
    "    Division = n1/n2\n",
    "    print (f\"Division: {n1}/{n2} = {Division}\")\n",
    "else:\n",
    "    print(\"la operación no se puede realizar\")"
   ]
  },
  {
   "cell_type": "markdown",
   "id": "8b2a9105",
   "metadata": {},
   "source": [
    "Escribiendo frases, dando una opinion y si escribe una palabrota tapar y responder eso no es correcto"
   ]
  },
  {
   "cell_type": "code",
   "execution_count": null,
   "id": "846266c7",
   "metadata": {},
   "outputs": [],
   "source": [
    "import re \n",
    "\n",
    "# listas de palabrotas\n",
    "palabrotas =('idiota','imbecil','tonta','tonto','estupido','estupida','cabeza hueca')\n",
    "\n",
    "# pregunta al usuario o persona \n",
    "respuesta = input(\"Cómo soy\").lower()\n",
    "\n",
    "insulto_detectado = False\n",
    "# si hay paabrotas o varible negativa\n",
    "\n",
    "for insulto in palabrotas:\n",
    " if insulto in respuesta: \n",
    "    # cambiarlo por simbolos \n",
    "    respuesta = re.sub(insulto,'@!##*%', respuesta)\n",
    "    insulto_detectado = True\n",
    "# repuesta final\n",
    " if insulto_detectado:\n",
    "    #verificar si hay un insulto (variable)\n",
    "    print(respuesta)\n",
    "    print(\" Eso no es correcto: no debemos insultar a las personas.\")\n",
    "\n",
    "else:\n",
    "        print(respuesta,\":-)\"  \"Gracias por tus palabras:\" )"
   ]
  },
  {
   "cell_type": "markdown",
   "id": "835b15b4",
   "metadata": {},
   "source": [
    "Otra actividad  tipo de escritura de texto "
   ]
  },
  {
   "cell_type": "code",
   "execution_count": null,
   "id": "d920b797",
   "metadata": {},
   "outputs": [],
   "source": [
    "## validar  si es valido el email \n",
    "## \n",
    "Import re\n",
    "\n",
    "## patron basico email\n",
    "email_validos  = [\"ejemplo@ejemplo.com,\"ejemplo@ejemplo.es\",\"mi.ejemplo@ejemplo.ai\",\"ejemplo+alias@ejemplo.com\",\"nomber_apellido-otroapellido@ejemplo.com\",\n",
    "\"1234567890@ejemplo.us\"]\n",
    "##no validos \n",
    "email_novalidos= [\"ejemplo@.com,\"ejemplo@es\",\"@ejemplo.comi\",\"ejemplo@\",\"ejemplo\",\"ejemplo@.ejemplo.es\",\"ejemplo@ejemplo..com\"]\n",
    "su_email = input(\"escribe su email\").lower()\n",
    "\n",
    "\n",
    "email_novalido = false "
   ]
  },
  {
   "cell_type": "code",
   "execution_count": null,
   "id": "550408c7",
   "metadata": {},
   "outputs": [],
   "source": [
    "email = \"ejemplo@ejemplo.com\"\n",
    "\n",
    "su_email = input(\"escribe su email\").lower()\n",
    "\n",
    "if email.count(\"@\") != 1:\n",
    "\n",
    "    ...\n",
    "    # esta mal\n",
    "\n",
    "email_dividido = email.split(\"@\") # [nombre, dominio]\n",
    "valido = True\n",
    "for caracter in email: \n",
    "    if caracter in caracteres_aceptables:\n",
    "        continue\n",
    "    else:\n",
    "        valido = False"
   ]
  },
  {
   "cell_type": "code",
   "execution_count": null,
   "id": "d318ce4f",
   "metadata": {},
   "outputs": [
    {
     "name": "stdout",
     "output_type": "stream",
     "text": [
      "❌ El email es inválido: debe contener un solo '@'.\n"
     ]
    }
   ],
   "source": [
    "caracteres_aceptables = \"abcdefghijklmnopqrstuvwxyz0123456789._@+-\"\n",
    "\n",
    "email_correcto = \"ejemplo@ejemplo.com\"\n",
    "\n",
    "su_email = input(\"Escribe tu email: \").lower()\n",
    "\n",
    "# solo un \"@\"\n",
    "if su_email.count(\"@\") != 1:\n",
    "    print(\"el email es inválido: debe contener un solo '@'.\")\n",
    "else:\n",
    "    nombre, dominio = su_email.split(\"@\")\n",
    "\n",
    "    # Comprobamos que nombre y dominio no estén vacíos\n",
    "    if not nombre or not dominio:\n",
    "        print(\" El email es inválido: nombre o dominio vacíos.\")\n",
    "    else:\n",
    "        valido = True\n",
    "        for caracter in su_email:\n",
    "            if caracter not in caracteres_aceptables:\n",
    "                valido = False\n",
    "                break\n",
    "\n",
    "        if valido:\n",
    "            print(\"✅ El email parece válido.\")\n",
    "        else:\n",
    "            print(\" El email contiene caracteres no permitidos.\")\n",
    "\n",
    "        emails validos= \n",
    "\n",
    "email_validos = [\"ejemplo@ejemplo.com,\n",
    "\"ejemplo@ejemplo.es\",\n",
    "\"mi.ejemplo@ejemplo.ai\",\n",
    "\"ejemplo+alias@ejemplo.com\",\n",
    "\"nomber_apellido-otroapellido@ejemplo.com\",\n",
    "\"1234567890@ejemplo.us\"]\n",
    "\n",
    "emails invalidos = [\"ejemplo@.com,\n",
    "\"ejemplo@es\",\n",
    "\"@ejemplo.comi\",\n",
    "\"ejemplo@\",\n",
    "\"ejemplo\",\n",
    "\"ejemplo@.ejemplo.es\",\n",
    "\"ejemplo@ejemplo..com\"]\n"
   ]
  },
  {
   "cell_type": "markdown",
   "id": "112f56b1",
   "metadata": {},
   "source": [
    "Quiero que se pregunten notas una a una (tendreis que usar un bucle) y que se vayan guardando, hasta que se introduzca un -1, entonces, quiero que me mostreis las notas, la primera, las tres ultimas, y las que van desde la segunda nota hasta la penultima"
   ]
  },
  {
   "cell_type": "markdown",
   "id": "904141c5",
   "metadata": {},
   "source": [
    "Pida notas una por una (con un bucle).\n",
    "\n",
    "Guarde las notas en una lista.\n",
    "\n",
    "Termine cuando se introduce -1.\n",
    "\n",
    "Al final muestre:\n",
    "\n",
    " Todas las notas.\n",
    "\n",
    " La primera nota.\n",
    "\n",
    " Las tres últimas.\n",
    "\n",
    " Las notas desde la segunda hasta la penúltima."
   ]
  },
  {
   "cell_type": "code",
   "execution_count": 10,
   "id": "cf98230d",
   "metadata": {},
   "outputs": [
    {
     "name": "stdout",
     "output_type": "stream",
     "text": [
      "\n",
      "📋 Notas ingresadas: [15.0, 8.0, 5.0]\n",
      "🔹 Primera nota: 15.0\n",
      "🔹 Tres últimas notas: [15.0, 8.0, 5.0]\n",
      "🔹 Notas desde la segunda hasta la penúltima: [8.0]\n"
     ]
    }
   ],
   "source": [
    "notas = []\n",
    "\n",
    "while True:\n",
    "    entrada = input(\"Introduce una nota (o -1 para terminar): \")\n",
    "\n",
    "    if entrada == \"-1\":\n",
    "        break\n",
    "\n",
    "    try:\n",
    "        nota = float(entrada)\n",
    "        notas.append(nota)\n",
    "    except ValueError:\n",
    "        print(\"Por favor, introduce un número válido.\")\n",
    "\n",
    "# Mostrar resultados\n",
    "print(\"\\n📋 Notas ingresadas:\", notas)\n",
    "\n",
    "if len(notas) == 0:\n",
    "    print(\"No se introdujeron notas.\")\n",
    "else:\n",
    "    print(\"🔹 Primera nota:\", notas[0])\n",
    "\n",
    "    if len(notas) >= 3:\n",
    "        print(\"🔹 Tres últimas notas:\", notas[-3:])\n",
    "    else:\n",
    "        print(\"🔹 No hay tres notas suficientes para mostrar las tres últimas:\", notas)\n",
    "\n",
    "    if len(notas) >= 3:\n",
    "        print(\"🔹 Notas desde la segunda hasta la penúltima:\", notas[1:-1])\n",
    "    else:\n",
    "        print(\"🔹 No hay suficientes notas para mostrar desde la segunda hasta la penúltima.\")\n"
   ]
  },
  {
   "cell_type": "markdown",
   "id": "e9d94168",
   "metadata": {},
   "source": [
    "Promedio de tres notas "
   ]
  },
  {
   "cell_type": "code",
   "execution_count": 1,
   "id": "d43b9930",
   "metadata": {},
   "outputs": [
    {
     "name": "stdout",
     "output_type": "stream",
     "text": [
      "el promedio de su nota es : 6.666666666666667\n"
     ]
    }
   ],
   "source": [
    "nota1 = float(input (\"Intuduce la 1era nota\"))\n",
    "nota2 = float(input (\"Intuduce la 2da nota\"))\n",
    "nota3 = float(input (\"Intuduce la 3era nota\"))\n",
    "promedio = (nota1 + nota2 + nota3)/3\n",
    "print (\"el promedio de su nota es :\", promedio)"
   ]
  },
  {
   "cell_type": "markdown",
   "id": "d030be8a",
   "metadata": {},
   "source": [
    "calacular la media de cada alumnos y general , mostrar la 1era nota y ultima nota de c/alumno"
   ]
  },
  {
   "cell_type": "code",
   "execution_count": 5,
   "id": "e8eb9123",
   "metadata": {},
   "outputs": [
    {
     "name": "stdout",
     "output_type": "stream",
     "text": [
      "\n",
      " Alumno 1\n",
      "  Todas las notas: [4, 5, 8, 4]\n",
      "  Primera nota: 4\n",
      "  Tercera nota: 8\n",
      "  Media del alumno: 5.25\n",
      "\n",
      " Alumno 2\n",
      "  Todas las notas: [2, 5, 6, 5]\n",
      "  Primera nota: 2\n",
      "  Tercera nota: 6\n",
      "  Media del alumno: 4.50\n",
      "\n",
      " Alumno 3\n",
      "  Todas las notas: [0, 5, 4, 4]\n",
      "  Primera nota: 0\n",
      "  Tercera nota: 4\n",
      "  Media del alumno: 3.25\n",
      "\n",
      " Medias individuales: [5.25, 4.5, 3.25]\n",
      " Media general de todos los alumnos: 4.33\n"
     ]
    }
   ],
   "source": [
    "# Lista de notas de varios alumnos\n",
    "notas_alumnos = ([4, 5, 8, 4], [2, 5, 6, 5], [0, 5, 4, 4])\n",
    "\n",
    "# Lista para guardar la media de cada alumno\n",
    "medias_notas_cada_alumno = []\n",
    "\n",
    "# Variable para la suma de todas las medias\n",
    "media_total_notas = 0\n",
    "\n",
    "# Recorrer las notas de cada alumno\n",
    "for index, notas in enumerate(notas_alumnos, start=1):\n",
    "    print(f\"\\n Alumno {index}\")\n",
    "    print(f\"  Todas las notas: {notas}\")\n",
    "    \n",
    "    # Mostrar la primera nota si existe\n",
    "    if len(notas) >= 1:\n",
    "        print(f\"  Primera nota: {notas[0]}\")\n",
    "    \n",
    "    # Mostrar la tercera nota si existe\n",
    "    if len(notas) >= 3:\n",
    "        print(f\"  Tercera nota: {notas[2]}\")\n",
    "    \n",
    "    # Calcular y mostrar media individual\n",
    "    media_de_alumno = sum(notas) / len(notas)\n",
    "    print(f\"  Media del alumno: {media_de_alumno:.2f}\")\n",
    "    \n",
    "    # Guardar media para luego calcular la media total\n",
    "    medias_notas_cada_alumno.append(media_de_alumno)\n",
    "\n",
    "# Calcular media de todas las medias\n",
    "media_total_notas = sum(medias_notas_cada_alumno) / len(medias_notas_cada_alumno)\n",
    "\n",
    "# Mostrar resultados finales\n",
    "print(f\"\\n Medias individuales: {medias_notas_cada_alumno}\")\n",
    "print(f\" Media general de todos los alumnos: {media_total_notas:.2f}\")\n"
   ]
  },
  {
   "cell_type": "markdown",
   "id": "c2a34c84",
   "metadata": {},
   "source": [
    "diciconario "
   ]
  },
  {
   "cell_type": "code",
   "execution_count": null,
   "id": "c51418fa",
   "metadata": {},
   "outputs": [],
   "source": [
    "diccionario = {\n",
    "    \"usuario_1\": {\n",
    "        \"nombre\": \"Joaquin\",\n",
    "        \"edad\": 31,\n",
    "        \"contexto\": {\n",
    "            \"salario\": 65000,\n",
    "            \"rango\": \"senior\"\n",
    "        }\n",
    "    },\n",
    "    \"usuario_2\": {\n",
    "        \"nombre\": \"Heily\",\n",
    "        \"edad\": 22,\n",
    "        \"contexto\": {\n",
    "            \"salario\": 105000,\n",
    "            \"rango\": \"staff\"\n",
    "        }\n",
    "    },\n",
    "    \"usuario_3\": {\n",
    "        \"nombre\": \"Ana Maria\",\n",
    "        \"edad\": 33,\n",
    "        \"contexto\": {\n",
    "            \"salario\": 700000,\n",
    "            \"rango\": \"manager\"\n",
    "        }\n",
    "    }\n",
    "}"
   ]
  },
  {
   "cell_type": "markdown",
   "id": "13db78bb",
   "metadata": {},
   "source": [
    "correcion de mi ejercicio "
   ]
  },
  {
   "cell_type": "code",
   "execution_count": null,
   "id": "050fd454",
   "metadata": {},
   "outputs": [],
   "source": [
    "# Lista de notas de varios alumnos\n",
    "notas_alumnos = ([4, 5, 8, 4], [2, 5, 6, 5], [0, 5, 4, 4])\n",
    "\n",
    "# Lista para guardar la media de cada alumno\n",
    "medias_notas_cada_alumno = []\n",
    "\n",
    "# Variable para la suma de todas las medias\n",
    "media_total_notas = 0\n",
    "\n",
    "# Recorrer las notas de cada alumno\n",
    "for index, notas in enumerate(notas_alumnos, start=1):\n",
    "    print(f\"\\n Alumno {index}\")\n",
    "    print(f\"  Todas las notas: {notas}\")\n",
    "\n",
    "    # Mostrar la primera nota si existe\n",
    "    if len(notas) >= 1:\n",
    "        print(f\"  Primera nota: {notas[0]}\")\n",
    "\n",
    "    # Mostrar la tercera nota si existe\n",
    "    if len(notas) >= 3:\n",
    "        print(f\"  Tercera nota: {notas[2]}\")\n",
    "\n",
    "    # Calcular y mostrar media individual\n",
    "    media_de_alumno = sum(notas) / len(notas)\n",
    "    print(f\"  Media del alumno: {media_de_alumno:.2f}\")\n",
    "\n",
    "    # Guardar media para luego calcular la media total\n",
    "    medias_notas_cada_alumno.append(media_de_alumno)\n",
    "\n",
    "# Calcular media de todas las medias\n",
    "media_total_notas = sum(medias_notas_cada_alumno) / len(medias_notas_cada_alumno)\n",
    "\n",
    "# Mostrar resultados finales\n",
    "print(f\"\\n Medias individuales: {medias_notas_cada_alumno}\")\n",
    "print(f\" Media general de todos los alumnos: {media_total_notas:.2f}\")\n",
    "\n",
    "\n",
    "#-------------------------------------------------\n",
    "# ESTO ES DEL PROFE\n",
    "\n",
    "alumnos = {\n",
    "    \"joaquin\": {\n",
    "        \"edad\": 31,\n",
    "        \"notas\": [4, 2, 5, 3]\n",
    "    },\n",
    "    \"doris\": {\n",
    "        \"edad\": 35,\n",
    "        \"notas\": [10, 9, 8, 10]\n",
    "    }\n",
    "}\n",
    "\n",
    "alumnos[\"heily\"] = {\n",
    "    \"edad\": 22,\n",
    "    \"notas\": [10, 10, 10, 10]\n",
    "}\n",
    "\n",
    "nombre = input(\"Dame un nombre: \")\n",
    "edad = int(input(\"Dame una edad: \"))\n",
    "notas = []\n",
    "for indice in range(4):\n",
    "    notas.append(float(input(\"Dame una nota: \")))\n",
    "alumnos[nombre] = {\"edad\": edad, \"notas\": notas}\n",
    "\n",
    "print(alumnos)"
   ]
  },
  {
   "cell_type": "markdown",
   "id": "c618371c",
   "metadata": {},
   "source": [
    "mezcla de colores "
   ]
  },
  {
   "cell_type": "code",
   "execution_count": null,
   "id": "42fd1a91",
   "metadata": {},
   "outputs": [],
   "source": [
    "def mezcla_colores(colora, colorb, colorc):\n",
    "    entrada = input(\"Escribe dos colores separados por 'y' (por ejemplo: rojo y azul): \").lower()\n",
    "    \n",
    "    if entrada in [f\"{colorc} y {colorb}\", f\"{colorb} y {colorc}\"]: ##son variables string\n",
    "        return \"Magenta\"\n",
    "    elif entrada in [f\"{colorc} y {colora}\", f\"{colora} y {colorc}\"]:\n",
    "        return \"Naranja\"\n",
    "    elif entrada in [f\"{colorb} y {colora}\", f\"{colora} y {colorb}\"]:\n",
    "        return \"Verde\"\n",
    "    else:\n",
    "        return \"No conozco esa mezcla.\"\n",
    "\n",
    "# Definimos los colores, estos son los parametros \n",
    "colora = \"amarillo\"\n",
    "colorb = \"azul\"\n",
    "colorc = \"rojo\"\n",
    "\n",
    "# Llamamos a la función\n",
    "resultado = mezcla_colores(colora, colorb, colorc)\n",
    "\n",
    "# Mostramos el resultado fuera de la función\n",
    "print(\"Resultado de la mezcla:\", resultado)\n"
   ]
  },
  {
   "cell_type": "markdown",
   "id": "d12a04a0",
   "metadata": {},
   "source": [
    "crear una calculadora "
   ]
  },
  {
   "cell_type": "code",
   "execution_count": null,
   "id": "a87d7006",
   "metadata": {},
   "outputs": [],
   "source": [
    "#hacer una calculadora (n1, n2)\n",
    "n1 = int(input(\"escribe el primer numero\"))\n",
    "n2 = int(input(\"escribe el segundo numero\"))\n",
    "def resta_total(n1, n2):  # Estos son sus dos argumentos\n",
    "    return n1 - n2\n",
    " \n",
    "mi_resta = resta_total(n1, n2)\n",
    " \n",
    "print(mi_resta)\n",
    "#suma\n",
    "def suma_total(n1, n2):  \n",
    "    return n1 + n2\n",
    " \n",
    "mi_suma = suma_total(n1, n2)\n",
    " \n",
    "print(mi_suma)\n",
    "\n",
    "#multiplicar\n",
    "def multiplicacion_total(n1, n2):\n",
    "    return n1 * n2\n",
    "mi_multiplicacion = multiplicacion_total\n",
    "\n",
    "print(mi_multiplicacion)\n",
    "\n",
    "#dividir\n",
    "def division_total(n1, n2):\n",
    "    if n2 != 0:\n",
    "        return n1 / n2\n",
    "    else:\n",
    "        return \"No se puede dividir entre cero\"\n",
    "mi_division = division_total\n",
    "\n",
    "print(division_total)"
   ]
  },
  {
   "cell_type": "markdown",
   "id": "83222819",
   "metadata": {},
   "source": [
    "Haced un sistema de peticiones HTTP\n",
    " \n",
    "Las peticiones HTTP son GET, POST, PUT y DELETE (hay mas), hacer un sistema de enrutado (router) que me registre las diferentes direcciones con sus metodos, y ademas, un sistema renderizado (render) que me resuelva cierta logica para esas urls"
   ]
  },
  {
   "cell_type": "code",
   "execution_count": null,
   "id": "11cb9538",
   "metadata": {},
   "outputs": [
    {
     "name": "stdout",
     "output_type": "stream",
     "text": [
      "Página de inicio (GET)\n",
      "Crear usuario (POST)\n",
      "Actualizar usuario (PUT)\n",
      "Eliminar usuario (DELETE)\n",
      "404 Not Found: GET /noexiste\n"
     ]
    }
   ],
   "source": [
    "# Diccionario para guardar rutas y métodos asociados\n",
    "router = {}\n",
    "\n",
    "# Función para registrar rutas\n",
    "def register_route(path, method, handler_function):\n",
    "    router[(path, method.upper())] = handler_function\n",
    "\n",
    "# Función render que simula una petición HTTP\n",
    "def render(path, method):\n",
    "    key = (path, method.upper())\n",
    "    if key in router:\n",
    "        return router[key]()  # Llama a la función asociada\n",
    "    else:\n",
    "        return f\" Not Found: {method} {path}\"\n",
    "\n",
    "# Funciones que simulan la lógica de las rutas\n",
    "def home_get():\n",
    "    return \"Página de inicio (GET)\"\n",
    "\n",
    "def user_post():\n",
    "    return \"Crear usuario (POST)\"\n",
    "\n",
    "def user_put():\n",
    "    return \"Actualizar usuario (PUT)\"\n",
    "\n",
    "def user_delete():\n",
    "    return \"Eliminar usuario (DELETE)\"\n",
    "\n",
    "# Registro de rutas\n",
    "register_route(\"/\", \"GET\", home_get)\n",
    "register_route(\"/user\", \"POST\", user_post)\n",
    "register_route(\"/user\", \"PUT\", user_put)\n",
    "register_route(\"/user\", \"DELETE\", user_delete)\n",
    "\n",
    "# Ejemplos de renderizado de peticiones\n",
    "print(render(\"/\", \"GET\"))        # Página de inicio\n",
    "print(render(\"/user\", \"POST\"))   # Crear usuario\n",
    "print(render(\"/user\", \"PUT\"))    # Actualizar usuario\n",
    "print(render(\"/user\", \"DELETE\")) # Eliminar usuario\n",
    "print(render(\"/noexiste\", \"GET\"))  # Ruta no encontrada\n",
    "\n",
    "\n"
   ]
  },
  {
   "cell_type": "markdown",
   "id": "8a5d922d",
   "metadata": {},
   "source": [
    "trabajar con herencia "
   ]
  },
  {
   "cell_type": "code",
   "execution_count": null,
   "id": "49eb77d5",
   "metadata": {},
   "outputs": [],
   "source": [
    "class Personaje:\n",
    "    def __init__(self, nombre:str, rol:str):\n",
    "        self.nombre = nombre\n",
    "        self.rol = rol\n",
    "        self.puntos_vidas = 3\n",
    "        self.nivel = 5\n",
    "        self.iventario = 3\n",
    "\n",
    "# Creando una clase guerrero\n",
    "\n",
    "class Guerrero(Personaje):\n",
    "    def golpe_poderoso(self):\n",
    "        print(f\"{self.nombre} ha dado un gran golpe! El daño es doble!\")\n",
    "\n",
    "guts = Guerrero(\"Guts\", \"guerrero\")\n",
    "print(guts.nombre, guts.rol, guts.puntos_vidas, guts.nivel, guts.inventario)\n",
    "guts.ataque:basico()\n",
    "guts.golpe_poderoso()\n",
    "\n",
    "# Crear una clase mago\n",
    "\n",
    "\n",
    "\n",
    "# Crear una clase medico\n",
    "class medico(Personaje):\n",
    "    def atiende_los_pacientes(self):\n",
    "        print(f\"{self.nombre}sana alos heridos\")\n",
    "        \n",
    "Dr_Jor = medico(\"Dr.Jor\",\"medico\")\n",
    "print(Dr_Jor.nombre,Dr_Jor.puntos_vida,Dr_Jor.nivel,Dr_Jor.inventario)\n",
    "Dr_Jor.sana:medio()\n",
    "Dr_Jor.medico_estrella\n",
    "\n",
    "\n"
   ]
  },
  {
   "cell_type": "markdown",
   "id": "3ffbad8e",
   "metadata": {},
   "source": [
    "corregido"
   ]
  },
  {
   "cell_type": "code",
   "execution_count": null,
   "id": "803877d7",
   "metadata": {},
   "outputs": [
    {
     "name": "stdout",
     "output_type": "stream",
     "text": [
      "Guts guerrero 3 5 []\n",
      "Guts ataca con un golpe básico.\n",
      "Guts ha dado un gran golpe! ¡El daño es doble!\n",
      "Merlin lanza una bola de fuego mágica.\n",
      "Dr. Jor médico 3 5 []\n",
      "Dr. Jor sana a los heridos.\n"
     ]
    }
   ],
   "source": [
    "# Clase base: Personaje\n",
    "class Personaje:\n",
    "    def __init__(self, nombre: str, rol: str):\n",
    "        self.nombre = nombre\n",
    "        self.rol = rol\n",
    "        self.puntos_vidas = 3      \n",
    "        self.nivel = 5             \n",
    "        self.inventario = []       \n",
    "\n",
    "# Clase Guerrero (hereda de Personaje)\n",
    "class Guerrero(Personaje):\n",
    "    def golpe_poderoso(self):\n",
    "        print(f\"{self.nombre} ha dado un gran golpe! ¡El daño es doble!\")\n",
    "\n",
    "    def ataque_basico(self):\n",
    "        print(f\"{self.nombre} ataca con un golpe básico.\")\n",
    "\n",
    "# Crear instancia Guerrero\n",
    "guts = Guerrero(\"Guts\", \"guerrero\")\n",
    "print(guts.nombre, guts.rol, guts.puntos_vidas, guts.nivel, guts.inventario)\n",
    "guts.ataque_basico()\n",
    "guts.golpe_poderoso()\n",
    "\n",
    "# Clase Mago (por ejemplo)\n",
    "class Mago(Personaje):\n",
    "    def lanzar_hechizo(self):\n",
    "        print(f\"{self.nombre} lanza una bola de fuego mágica.\")\n",
    "\n",
    "# Crear instancia Mago\n",
    "merlin = Mago(\"Merlin\", \"mago\")\n",
    "merlin.lanzar_hechizo()\n",
    "\n",
    "# Clase Medico\n",
    "class Medico(Personaje):\n",
    "    def atiende_pacientes(self):\n",
    "        print(f\"{self.nombre} sana a los heridos.\")\n",
    "        otro_personaje.puntos_vidas += 1\n",
    "        print(f\"{otro_personaje.nombre} ahora tiene {otro_personaje.puntos_vidas} puntos de vida.\")\n",
    "\n",
    "# Crear instancia Medico\n",
    "dr_jor = Medico(\"Dr. Jor\", \"médico\")\n",
    "print(dr_jor.nombre, dr_jor.rol, dr_jor.puntos_vidas, dr_jor.nivel, dr_jor.inventario)\n",
    "dr_jor.atiende_pacientes()\n"
   ]
  },
  {
   "cell_type": "code",
   "execution_count": null,
   "id": "31bd8a82",
   "metadata": {},
   "outputs": [
    {
     "name": "stdout",
     "output_type": "stream",
     "text": [
      "Guts está herido. Tiene menos 2 puntos de vida.\n",
      "Dr. Jor cura a Guts.\n",
      "Guts ahora tiene 3 puntos de vida.\n"
     ]
    }
   ],
   "source": [
    "# Clase base: Personaje\n",
    "class Personaje:\n",
    "    def __init__(self, nombre: str, rol: str):\n",
    "        self.nombre = nombre\n",
    "        self.rol = rol\n",
    "        self.puntos_vidas = 3\n",
    "        self.nivel = 5\n",
    "        self.inventario = []\n",
    "\n",
    "# Clase Guerrero\n",
    "class Guerrero(Personaje):\n",
    "    def golpe_poderoso(self):\n",
    "        print(f\"{self.nombre} ha dado un gran golpe. ¡Daño doble!\")\n",
    "\n",
    "    def ataque_basico(self):\n",
    "        print(f\"{self.nombre} ataca con un golpe básico.\")\n",
    "\n",
    "# Clase Medico\n",
    "class Medico(Personaje):\n",
    "    def curar(self, otro_personaje):\n",
    "        print(f\"{self.nombre} cura a {otro_personaje.nombre}.\")\n",
    "        otro_personaje.puntos_vidas += 1\n",
    "        print(f\"{otro_personaje.nombre} ahora tiene {otro_personaje.puntos_vidas} puntos de vida.\")\n",
    "\n",
    "# Crear instancias\n",
    "guts = Guerrero(\"Guts\", \"guerrero\")\n",
    "dr_jor = Medico(\"Dr. Jor\", \"médico\")\n",
    "\n",
    "#  el guerrero se hiere (pierde 1 vida)\n",
    "guts.puntos_vidas -= 1\n",
    "print(f\"{guts.nombre} está herido. Tiene menos {guts.puntos_vidas} puntos de vida.\")\n",
    "\n",
    "# El médico lo cura\n",
    "dr_jor.curar(guts)\n"
   ]
  },
  {
   "cell_type": "markdown",
   "id": "5078b126",
   "metadata": {},
   "source": [
    "usar raise "
   ]
  },
  {
   "cell_type": "code",
   "execution_count": null,
   "id": "a6caf9fe",
   "metadata": {},
   "outputs": [
    {
     "ename": "IndentationError",
     "evalue": "unindent does not match any outer indentation level (<string>, line 7)",
     "output_type": "error",
     "traceback": [
      "  \u001b[36mFile \u001b[39m\u001b[32m<string>:7\u001b[39m\n\u001b[31m    \u001b[39m\u001b[31mDef pedido (self, cantidad: int) ->int\u001b[39m\n                                          ^\n\u001b[31mIndentationError\u001b[39m\u001b[31m:\u001b[39m unindent does not match any outer indentation level\n"
     ]
    }
   ],
   "source": [
    "Class Producto_Agotado(exception):\n",
    "Pass \n",
    "Class ProductoX:\n",
    "\tDef __init__(self, saldo: int): -> int\n",
    "\t     Self.saldo_inventario = saldo\n",
    "\n",
    "    Def pedido (self, cantidad: int) ->int\n",
    "        If self.saldo_inventario < cantidad\n",
    "\n",
    "           Raise saldoinsuficiente(f\"no se puede enviar el producto{self.cantidad }, no hay en el almacen\")\n",
    "        else:\n",
    "            self.saldo_inventario -=\n",
    "            return cantidad\n",
    "\n",
    "producto = productoX(20)\n",
    "print(producto)\n",
    "mi_pedido = mi_pedido (30)\n",
    "print(f\"acabo de comprar el producto\"{producto}tienda x, intento no puedo\")"
   ]
  },
  {
   "cell_type": "code",
   "execution_count": 11,
   "id": "039d1385",
   "metadata": {},
   "outputs": [
    {
     "name": "stdout",
     "output_type": "stream",
     "text": [
      "ERROR: No se puede enviar el producto (pedido: 30), solo hay 20 en el almacén.\n"
     ]
    }
   ],
   "source": [
    "# Excepción personalizada\n",
    "class ProductoAgotado(Exception):\n",
    "    pass\n",
    "\n",
    "# Clase del producto\n",
    "class ProductoX:\n",
    "    def __init__(self, saldo: int):\n",
    "        self.saldo_inventario = saldo\n",
    "\n",
    "    def pedido(self, cantidad: int) -> int:\n",
    "        if self.saldo_inventario < cantidad:\n",
    "            raise ProductoAgotado(\n",
    "                f\"No se puede enviar el producto (pedido: {cantidad}), solo hay {self.saldo_inventario} en el almacén.\"\n",
    "            )\n",
    "        else:\n",
    "            self.saldo_inventario -= cantidad\n",
    "            return cantidad\n",
    "\n",
    "# Crear producto con 20 unidades\n",
    "producto = ProductoX(20)\n",
    "\n",
    "# Intentar hacer un pedido de 30 unidades\n",
    "try:\n",
    "    mi_pedido = producto.pedido(30)\n",
    "    print(f\"Acabo de comprar {mi_pedido} unidades del producto en la tienda.\")\n",
    "except ProductoAgotado as e:\n",
    "    print(f\"ERROR: {e}\")\n"
   ]
  }
 ],
 "metadata": {
  "kernelspec": {
   "display_name": "Python 3",
   "language": "python",
   "name": "python3"
  },
  "language_info": {
   "codemirror_mode": {
    "name": "ipython",
    "version": 3
   },
   "file_extension": ".py",
   "mimetype": "text/x-python",
   "name": "python",
   "nbconvert_exporter": "python",
   "pygments_lexer": "ipython3",
   "version": "3.13.5"
  }
 },
 "nbformat": 4,
 "nbformat_minor": 5
}
